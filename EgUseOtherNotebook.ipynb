{
 "metadata": {
  "name": "",
  "signature": "sha256:a2fdd05cf5a8963f969ebf77f6f1fac1dab2bf0fb9f9e096abca54947c882e3a"
 },
 "nbformat": 3,
 "nbformat_minor": 0,
 "worksheets": [
  {
   "cells": [
    {
     "cell_type": "code",
     "collapsed": false,
     "input": [
      "%run 'EvapotranspirationFunctions.ipynb'\n",
      "result = nett_radiation(5)\n",
      "print result"
     ],
     "language": "python",
     "metadata": {},
     "outputs": [
      {
       "output_type": "stream",
       "stream": "stdout",
       "text": [
        "2.7\n"
       ]
      }
     ],
     "prompt_number": 5
    }
   ],
   "metadata": {}
  }
 ]
}