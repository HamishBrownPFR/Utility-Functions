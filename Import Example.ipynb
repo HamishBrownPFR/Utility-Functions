{
 "metadata": {
  "name": "",
  "signature": "sha256:3622efd390ef8ee935f0e286a6caa2c97e80e3b471b5c2e951848574ba153392"
 },
 "nbformat": 3,
 "nbformat_minor": 0,
 "worksheets": [
  {
   "cells": [
    {
     "cell_type": "code",
     "collapsed": false,
     "input": [
      "import io\n",
      "from IPython.nbformat import current\n",
      "\n",
      "def execute_notebook(nbfile):\n",
      "    \n",
      "    with io.open(nbfile) as f:\n",
      "        nb = current.read(f, 'json')\n",
      "    \n",
      "    ip = get_ipython()\n",
      "    \n",
      "    for cell in nb.worksheets[0].cells:\n",
      "        if cell.cell_type != 'code':\n",
      "            continue\n",
      "        ip.run_cell(cell.input)"
     ],
     "language": "python",
     "metadata": {},
     "outputs": [],
     "prompt_number": 1
    },
    {
     "cell_type": "code",
     "collapsed": false,
     "input": [
      "execute_notebook(\"EvapotranspirationFunctions.ipynb\")"
     ],
     "language": "python",
     "metadata": {},
     "outputs": [],
     "prompt_number": 4
    },
    {
     "cell_type": "code",
     "collapsed": false,
     "input": [
      "result = nett_radiation(6)\n",
      "print result"
     ],
     "language": "python",
     "metadata": {},
     "outputs": [
      {
       "output_type": "stream",
       "stream": "stdout",
       "text": [
        "3.29\n"
       ]
      }
     ],
     "prompt_number": 5
    }
   ],
   "metadata": {}
  }
 ]
}