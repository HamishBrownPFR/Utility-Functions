{
 "metadata": {
  "name": "",
  "signature": "sha256:fde01cb723becb91d42553dafd96bc70743cd6e46c084a2a23236370e92dab58"
 },
 "nbformat": 3,
 "nbformat_minor": 0,
 "worksheets": [
  {
   "cells": [
    {
     "cell_type": "code",
     "collapsed": false,
     "input": [
      "import math as math #import library for math functions"
     ],
     "language": "python",
     "metadata": {},
     "outputs": [],
     "prompt_number": 4
    },
    {
     "cell_type": "code",
     "collapsed": false,
     "input": [
      "#Net radiation needed for evapotranspiration calculations (MJ/m2).  Net radiation recieved per day\n",
      "def nett_radiation(total_radiation):\n",
      "    _ret = None\n",
      "    _ret = - 0.25 + 0.59 * total_radiation\n",
      "    return _ret"
     ],
     "language": "python",
     "metadata": {},
     "outputs": [],
     "prompt_number": 3
    },
    {
     "cell_type": "code",
     "collapsed": false,
     "input": [
      "#Satureated vapor pressure at given temperature (mbar).  This is a different way of calculating SatVP\n",
      "def saturated_vapor_pressure(temperature):\n",
      "    _ret = None\n",
      "    _ret = 0.611 * math.exp(( 17.27 * temperature )  /  ( temperature + 237.3 )) * 10\n",
      "    return _ret\n",
      "\n",
      "#vapour pressure deficit (kPa)\n",
      "def vapor_pressure_deficit(temperature, vapor_pressure):\n",
      "    _ret = None\n",
      "    saturated_vp = saturated_vapor_pressure(temperature)\n",
      "    _ret = saturated_vp - vapor_pressure\n",
      "    return _ret"
     ],
     "language": "python",
     "metadata": {},
     "outputs": []
    },
    {
     "cell_type": "code",
     "collapsed": false,
     "input": [
      "#Slope of the saturated vapor pressure line at give temperature (kPa).  This is a different way of calculating Hslope\n",
      "def saturated_vapor_pressure_slope(temperature):\n",
      "    _ret = None\n",
      "    _ret = ( 4098 * 0.6108 * math.exp(( 17.27 * temperature )  /  ( temperature + 237.3 )) )  /  ( ( temperature + 237.3 )  ** 2 )\n",
      "    return _ret"
     ],
     "language": "python",
     "metadata": {},
     "outputs": []
    },
    {
     "cell_type": "code",
     "collapsed": false,
     "input": [
      "#latent heat of vapourisation (MJ/kg). ET calculations solve an energy balance to work out how much energy is being removed from the system by evaporation.  We need to divide by LAMDA to convert to mm of water\n",
      "def lamda(temperature):\n",
      "    _ret = None\n",
      "    _ret = 2.5 - 0.002365 * temperature\n",
      "    return _ret\n",
      "\n",
      "#The phycometric constant (kPa/oK)\n",
      "def gama(temperature):\n",
      "    _ret = None\n",
      "    Cp = 0.001013\n",
      "    p = 101\n",
      "    e = 0.622\n",
      "    l = lamda(temperature)\n",
      "    _ret = ( Cp * p )  /  ( e * l )  \n",
      "    return _ret\n",
      "\n",
      "#Penman Evapotranspiration potential (mm/day)\n",
      "def PenmanEO(radiation, temperature, windrun, vapor_pressure):\n",
      "    _ret = None\n",
      "    D = saturated_vapor_pressure_slope(temperature)\n",
      "    l = lamda(temperature)\n",
      "    G = gama(temperature)\n",
      "    p = AirDensity(temperature)\n",
      "    Rad = nett_radiation(radiation)\n",
      "    VPD = vapor_pressure_deficit(temperature, vapor_pressure)\n",
      "    Wind = windrun\n",
      "    Ea = 0.27 * VPD *  ( 1 + windrun / 160 ) \n",
      "    _ret = ( D * Rad / l + G * Ea )  /  ( D + G )\n",
      "    return _ret\n",
      "\n",
      "#Priestly Taylor evapotranspiration potential (mm/day)\n",
      "def Priestly_TaylorEO(radiation, temperature, alpha):\n",
      "    _ret = None\n",
      "    D = saturated_vapor_pressure_slope(temperature)\n",
      "    l = lamda(temperature)\n",
      "    G = gama(temperature)\n",
      "    Rad = nett_radiation(radiation)\n",
      "    PTe = alpha * D * Rad /  ( D + G )\n",
      "    _ret = PTe / l\n",
      "    return _ret\n"
     ],
     "language": "python",
     "metadata": {},
     "outputs": [
      {
       "output_type": "stream",
       "stream": "stdout",
       "text": [
        "0.0661088362747\n"
       ]
      }
     ],
     "prompt_number": 2
    },
    {
     "cell_type": "code",
     "collapsed": false,
     "input": [
      "#Density of air (kg/m3)\n",
      "def AirDensity(temperature):\n",
      "    _ret = None\n",
      "    p = 101\n",
      "    GC = 287\n",
      "    _ret = ( 1000 * p )  /  ( GC * 1.01 *  ( 273.16 + temperature ) )\n",
      "    return _ret"
     ],
     "language": "python",
     "metadata": {},
     "outputs": []
    },
    {
     "cell_type": "code",
     "collapsed": false,
     "input": [
      "#Nett Radaition at crop surface\n",
      "#radiation is the solar radiation measured by a pyranometer for the period (MJ/m2)\n",
      "#Tmean is the mean temperature for the period\n",
      "#vapour pressure in kPa\n",
      "#Lattitude in degrees\n",
      "#DOY is day of year 1 Jan = 1\n",
      "#HourDuration is the duration of the calculation period in hours\n",
      " \n",
      "#If HourDuration is set to less than 24 the following parameters also need to have appropriate values\n",
      "#Time is the time (in hours) of the mid poing of the measurement period\n",
      "#LongitudeTZ is the longitude at the centre of the time zone where measurements are taken in degrees\n",
      "#LongitudeML is the longitude of the location of measurement in degrees\n",
      "\n",
      "def NetRadiation(radiation, Tmean, VapourPressure, Lattitude, DOY, HourDuration, Time, LongitudeTZ, LongitudeML):\n",
      "    _ret = None\n",
      "    if radiation <= 0:\n",
      "        RShortWave = 0\n",
      "        RLongWave = 0\n",
      "    else:\n",
      "        RShortWave = NetSolarRadiation(radiation)\n",
      "        RLongWave = NetLongwaveRadiation(radiation, Tmean, VapourPressure, Lattitude, DOY, HourDuration, Time, LongitudeTZ, LongitudeML)\n",
      "    if RLongWave < 0:\n",
      "        RLongWave = 0\n",
      "    if RShortWave > 0 and RLongWave > 0:\n",
      "        _ret = RShortWave - RLongWave\n",
      "    else:\n",
      "        _ret = 0\n",
      "    return _ret"
     ],
     "language": "python",
     "metadata": {},
     "outputs": []
    },
    {
     "cell_type": "code",
     "collapsed": false,
     "input": [
      "#Solar (Short wave) radiation measured with a pyranometer and adjusted for reflection (albedo)def NetSolarRadiation(radiation):\n",
      "def NetSolarRadiation(radiation):\n",
      "    _ret = None\n",
      "    albedo = 0.23\n",
      "    _ret = ( 1 - albedo )  * radiation\n",
      "    return _ret\n"
     ],
     "language": "python",
     "metadata": {},
     "outputs": []
    },
    {
     "cell_type": "code",
     "collapsed": false,
     "input": [
      "#Radiation assuming no cloud cover\n",
      "def ClearSkyRadiation(Lattitude, DOY, HourDuration, Time, LongitudeTZ, LongitudeML):\n",
      "    _ret = None\n",
      "    _ret = ( 0.75 + 0.00002 * 17 )  * ExtraterestialRadiation(Lattitude, DOY, HourDuration, Time, LongitudeTZ, LongitudeML)\n",
      "    return _ret\n",
      "\n",
      "#Solar radiation lost again to the atmosphere and space by longwave radiation\n",
      "def NetLongwaveRadiation(radiation, Tmean, VapourPressure, Lattitude, DOY, HourDuration, Time, LongitudeTZ, LongitudeML):\n",
      "    _ret = None\n",
      "    RClearSky = ClearSkyRadiation(Lattitude, DOY, HourDuration, Time, LongitudeTZ, LongitudeML)\n",
      "    if RClearSky > 0:\n",
      "        sb = 0.000000004903 * HourDuration / 24\n",
      "        a = ( Tmean + 273.16 )  ** 4\n",
      "        b = 0.34 - 0.14 * VapourPressure ** 0.5\n",
      "        SSoRatio = radiation / RClearSky\n",
      "        if SSoRatio > 1:\n",
      "            SSoRatio = 1\n",
      "        c = 1.35 * SSoRatio - 0.35\n",
      "        if c < 0.05:\n",
      "            c = 0.05\n",
      "        elif c > 1:\n",
      "            c = 1\n",
      "        _ret = sb * a * b * c\n",
      "    else:\n",
      "        _ret = 0\n",
      "    return _ret"
     ],
     "language": "python",
     "metadata": {},
     "outputs": []
    },
    {
     "cell_type": "code",
     "collapsed": false,
     "input": [
      "#Radiation at the top of the atmosphere\n",
      "def ExtraterestialRadiation(Latitude, DOY, HourDuration, Time, LongitudeTZ, LongitudeML):\n",
      "    _ret = None\n",
      "    DR = InverseRelativeDistance(DOY)\n",
      "    SD = SolarDecimation(DOY)\n",
      "    Lat = Latitude*math.pi/180\n",
      "    \n",
      "    if HourDuration == 24 :\n",
      "        SH = SunsetHourAngel(DOY, Latitude)\n",
      "        _ret = (24/math.pi)*4.92*DR*(SH*math.sin(Lat)*math.sin(SD)+math.cos(Lat)*math.cos(SD)*math.sin(SD))\n",
      "    else:\n",
      "        SH = SunsetHourAngel(DOY, Latitude)\n",
      "        SH1 = SHMidPoint(DOY, Time, LongitudeTZ, LongitudeML) - math.pi *  HourDuration / 24\n",
      "        SH2 = SHMidPoint(DOY, Time, LongitudeTZ, LongitudeML) + math.pi*HourDuration/24\n",
      "        \n",
      "        if SH1< -SH:\n",
      "            SH1=-SH\n",
      "        elif SH1>SH:\n",
      "            SH1=SH\n",
      "        if SH2< -SH:\n",
      "            SH2= -SH\n",
      "        elif SH2>SH:\n",
      "            SH2=SH\n",
      "        if SH1>SH2:\n",
      "            SH1=SH2\n",
      "    _ret = (12/math.pi)*4.92*DR*((SH2-SH1)*math.sin(Lat)*math.sin(SD)+math.cos(Lat)*math.cos(SD)*math.sin(SH2)-math.sin(SH1))\n",
      "    return _ret"
     ],
     "language": "python",
     "metadata": {},
     "outputs": []
    },
    {
     "cell_type": "code",
     "collapsed": false,
     "input": [
      "  \n",
      "def SHMidPoint(DOY, Time, LongitudeTZ, LongitudeML):\n",
      "    _ret = None\n",
      "    b = ( 2 * math.pi *  ( DOY - 81 ) )  / 364\n",
      "    SC = 0.1645 * math.sin(2 * b) - 0.1255 * math.cos(b) - 0.025 * math.sin(b)\n",
      "    _ret = ( math.pi / 12 )  *  ( ( Time + 0.06667 *  ( LongitudeTZ - LongitudeML )  + SC )  - 12 )\n",
      "    return _ret\n",
      "\n",
      "def InverseRelativeDistance(DOY):\n",
      "    _ret = None\n",
      "    _ret = 1 + 0.033 * math.cos(( 2 * math.pi )  / 365 * DOY)\n",
      "    return _ret\n",
      "\n",
      "def SunsetHourAngel(DOY, Lattitude):\n",
      "    _ret = None\n",
      "    Lat = Lattitude * math.pi / 180\n",
      "    _ret = math.acos(- math.tan(Lat) * math.tan(SolarDecimation(DOY)))\n",
      "    return _ret\n",
      "\n",
      "def SolarDecimation(DOY):\n",
      "    _ret = None\n",
      "    _ret = 0.409 * math.sin(( 2 * math.pi )  / 365 * DOY - 1.39)\n",
      "    return _ret"
     ],
     "language": "python",
     "metadata": {},
     "outputs": []
    },
    {
     "cell_type": "code",
     "collapsed": false,
     "input": [
      "#Upper limit to the difference between air and canopy temperature (oC)\n",
      "def TaTcUL(Ra, Icul, Rn, Q, Cp):\n",
      "    _ret = None\n",
      "    _ret = ( Ra * Icul * Rn )  /  ( Q * Cp )\n",
      "    return _ret"
     ],
     "language": "python",
     "metadata": {},
     "outputs": []
    },
    {
     "cell_type": "code",
     "collapsed": false,
     "input": [
      "#Lower limit to the difference between air and canopy temperature (oC)\n",
      "def TaTcLL(Ra, Icll, Rn, Q, Cp, Gamma, Delta, SatVP, VP):\n",
      "    _ret = None\n",
      "    a = ( Ra * Icul * Rn )  /  ( Q * Cp )\n",
      "    b = Gamma /  ( Gamma + Delta )\n",
      "    c = ( SatVP - VP )  /  ( Delta + Gamma )\n",
      "    _ret = a * b - c\n",
      "    return _ret"
     ],
     "language": "python",
     "metadata": {},
     "outputs": []
    }
   ],
   "metadata": {}
  }
 ]
}